{
 "cells": [
  {
   "cell_type": "markdown",
   "id": "d6c71b42",
   "metadata": {},
   "source": [
    "Name : HADIQA MAQSOOD\n",
    "\n",
    "Task : IMAGE TO PENCIL SKETCH WITH PYTHON\n",
    "\n",
    "Level : BEGINNER LEVEL\n",
    "\n",
    "Batch : LGMVIP September-2021"
   ]
  },
  {
   "cell_type": "code",
   "execution_count": 1,
   "id": "e99e5222",
   "metadata": {},
   "outputs": [
    {
     "name": "stdout",
     "output_type": "stream",
     "text": [
      "Requirement already satisfied: opencv-python in c:\\users\\hadiq\\anaconda3\\lib\\site-packages (4.5.3.56)\n",
      "Requirement already satisfied: numpy>=1.17.3 in c:\\users\\hadiq\\anaconda3\\lib\\site-packages (from opencv-python) (1.20.1)\n"
     ]
    }
   ],
   "source": [
    "!pip install opencv-python"
   ]
  },
  {
   "cell_type": "code",
   "execution_count": 2,
   "id": "7f2322f0",
   "metadata": {},
   "outputs": [],
   "source": [
    "# Import OpenCV library\n",
    "\n",
    "import cv2"
   ]
  },
  {
   "cell_type": "markdown",
   "id": "f747321f",
   "metadata": {},
   "source": [
    "Reading the image"
   ]
  },
  {
   "cell_type": "code",
   "execution_count": 3,
   "id": "91effe2f",
   "metadata": {},
   "outputs": [],
   "source": [
    "img = cv2.imread(\"H:\\Lets Grow More Internship\\Joker.jpg\")"
   ]
  },
  {
   "cell_type": "markdown",
   "id": "eab60eac",
   "metadata": {},
   "source": [
    "Displaying the image"
   ]
  },
  {
   "cell_type": "code",
   "execution_count": 4,
   "id": "61d29881",
   "metadata": {},
   "outputs": [
    {
     "data": {
      "text/plain": [
       "-1"
      ]
     },
     "execution_count": 4,
     "metadata": {},
     "output_type": "execute_result"
    }
   ],
   "source": [
    "cv2.imshow(\"Joker Image\", img)\n",
    "cv2.waitKey(0)"
   ]
  },
  {
   "cell_type": "markdown",
   "id": "f61fe9df",
   "metadata": {},
   "source": [
    "Creating a new image by converting the original image to greyscale"
   ]
  },
  {
   "cell_type": "code",
   "execution_count": 7,
   "id": "b9ec877e",
   "metadata": {},
   "outputs": [
    {
     "data": {
      "text/plain": [
       "-1"
      ]
     },
     "execution_count": 7,
     "metadata": {},
     "output_type": "execute_result"
    }
   ],
   "source": [
    "grey_img = cv2.cvtColor(img, cv2.COLOR_BGR2GRAY)\n",
    "\n",
    "cv2.imshow(\"Joker GreyScale\", grey_img)\n",
    "cv2.waitKey(0)"
   ]
  },
  {
   "cell_type": "markdown",
   "id": "361a4813",
   "metadata": {},
   "source": [
    "Inverting the new greyscale image"
   ]
  },
  {
   "cell_type": "code",
   "execution_count": 8,
   "id": "5ca281b9",
   "metadata": {},
   "outputs": [
    {
     "data": {
      "text/plain": [
       "-1"
      ]
     },
     "execution_count": 8,
     "metadata": {},
     "output_type": "execute_result"
    }
   ],
   "source": [
    "inverted_img = 200 - grey_img\n",
    "\n",
    "cv2.imshow(\"Joker Inverted\", inverted_img)\n",
    "cv2.waitKey()"
   ]
  },
  {
   "cell_type": "code",
   "execution_count": 9,
   "id": "3a86df0b",
   "metadata": {},
   "outputs": [
    {
     "data": {
      "text/plain": [
       "-1"
      ]
     },
     "execution_count": 9,
     "metadata": {},
     "output_type": "execute_result"
    }
   ],
   "source": [
    "inverted_img = 240 - grey_img\n",
    "\n",
    "cv2.imshow(\"Joker Inverted\", inverted_img)\n",
    "cv2.waitKey()"
   ]
  },
  {
   "cell_type": "code",
   "execution_count": 10,
   "id": "1f53b10b",
   "metadata": {},
   "outputs": [
    {
     "data": {
      "text/plain": [
       "-1"
      ]
     },
     "execution_count": 10,
     "metadata": {},
     "output_type": "execute_result"
    }
   ],
   "source": [
    "inverted_img = 255 - grey_img\n",
    "\n",
    "cv2.imshow(\"Joker Inverted\", inverted_img)\n",
    "cv2.waitKey()"
   ]
  },
  {
   "cell_type": "markdown",
   "id": "7291bf18",
   "metadata": {},
   "source": [
    "Bluring the image by using the Gaussian Function"
   ]
  },
  {
   "cell_type": "code",
   "execution_count": 11,
   "id": "c7afcbeb",
   "metadata": {},
   "outputs": [
    {
     "data": {
      "text/plain": [
       "-1"
      ]
     },
     "execution_count": 11,
     "metadata": {},
     "output_type": "execute_result"
    }
   ],
   "source": [
    "blurred_img = cv2.GaussianBlur(inverted_img, (21, 21), 0)\n",
    "\n",
    "cv2.imshow(\"Joker Blurred\", blurred_img)\n",
    "cv2.waitKey()"
   ]
  },
  {
   "cell_type": "markdown",
   "id": "4ab04dba",
   "metadata": {},
   "source": [
    "Inverting the blurred image"
   ]
  },
  {
   "cell_type": "code",
   "execution_count": 12,
   "id": "ca59edd8",
   "metadata": {},
   "outputs": [
    {
     "data": {
      "text/plain": [
       "-1"
      ]
     },
     "execution_count": 12,
     "metadata": {},
     "output_type": "execute_result"
    }
   ],
   "source": [
    "inverted_blurred = 255 - blurred_img\n",
    "\n",
    "cv2.imshow(\"Joker Inv_Blur\", inverted_blurred)\n",
    "cv2.waitKey()"
   ]
  },
  {
   "cell_type": "markdown",
   "id": "ffe829ec",
   "metadata": {},
   "source": [
    "Converting the image into a pencil sketch"
   ]
  },
  {
   "cell_type": "code",
   "execution_count": 13,
   "id": "df5577e6",
   "metadata": {},
   "outputs": [
    {
     "data": {
      "text/plain": [
       "-1"
      ]
     },
     "execution_count": 13,
     "metadata": {},
     "output_type": "execute_result"
    }
   ],
   "source": [
    "pencil_sketch = cv2.divide(grey_img, inverted_blurred, scale=208.0)\n",
    "\n",
    "cv2.imshow(\"Joker Sketch\", pencil_sketch)\n",
    "cv2.waitKey(0)"
   ]
  },
  {
   "cell_type": "code",
   "execution_count": 14,
   "id": "ce5551a0",
   "metadata": {},
   "outputs": [
    {
     "data": {
      "text/plain": [
       "-1"
      ]
     },
     "execution_count": 14,
     "metadata": {},
     "output_type": "execute_result"
    }
   ],
   "source": [
    "pencil_sketch = cv2.divide(grey_img, inverted_blurred, scale=288.0)\n",
    "\n",
    "cv2.imshow(\"Joker Sketch\", pencil_sketch)\n",
    "cv2.waitKey(0)"
   ]
  },
  {
   "cell_type": "markdown",
   "id": "ac4c259d",
   "metadata": {},
   "source": [
    "In last, have a look at both the original image & the pencil sketch image"
   ]
  },
  {
   "cell_type": "code",
   "execution_count": 16,
   "id": "ef3a3a5a",
   "metadata": {},
   "outputs": [
    {
     "data": {
      "text/plain": [
       "-1"
      ]
     },
     "execution_count": 16,
     "metadata": {},
     "output_type": "execute_result"
    }
   ],
   "source": [
    "cv2.imshow(\"original image\", img)\n",
    "cv2.imshow(\"pencil sketch\", pencil_sketch)\n",
    "cv2.waitKey(0)"
   ]
  }
 ],
 "metadata": {
  "kernelspec": {
   "display_name": "Python 3",
   "language": "python",
   "name": "python3"
  },
  "language_info": {
   "codemirror_mode": {
    "name": "ipython",
    "version": 3
   },
   "file_extension": ".py",
   "mimetype": "text/x-python",
   "name": "python",
   "nbconvert_exporter": "python",
   "pygments_lexer": "ipython3",
   "version": "3.8.8"
  }
 },
 "nbformat": 4,
 "nbformat_minor": 5
}
